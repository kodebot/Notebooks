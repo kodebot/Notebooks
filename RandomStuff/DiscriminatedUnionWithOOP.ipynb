{
 "cells": [
  {
   "cell_type": "code",
   "execution_count": 1,
   "metadata": {},
   "source": [
    "using static System.Console;\r\n",
    "\r\n",
    "\r\n",
    "interface IDiscriminatedUnion<T1,T2> where T1: class where T2: class\r\n",
    "{\r\n",
    "    string TagType {get;}\r\n",
    "\r\n",
    "    void Match(Action<T1> type1, Action<T2> type2);\r\n",
    "//    TResult Match<TResult>(Func<T1, TResult> type1, Func<T2, TResult> type2);\r\n",
    "}\r\n",
    "\r\n",
    "class  DiscriminatedUnion<T1,T2>: IDiscriminatedUnion<T1, T2> where T1: class where T2: class\r\n",
    "{\r\n",
    "    public string TagType => this.GetType().Name;\r\n",
    "\r\n",
    "    public void Match(Action<T1> type1, Action<T2> type2)\r\n",
    "    {\r\n",
    "        if(TagType == typeof(T1).Name)\r\n",
    "        {\r\n",
    "             type1(this as T1);\r\n",
    "             return;\r\n",
    "        }\r\n",
    "\r\n",
    "         type2(this as T2);\r\n",
    "    }\r\n",
    "}\r\n",
    "\r\n",
    "class  Animal:DiscriminatedUnion<Dog, Cat>\r\n",
    "{\r\n",
    "\r\n",
    "}\r\n",
    "\r\n",
    "class Dog: Animal\r\n",
    "{\r\n",
    "    public string DogName {get; set;}\r\n",
    "\r\n",
    "    public void Bark()\r\n",
    "    {\r\n",
    "        WriteLine(\"Bark\");\r\n",
    "    }\r\n",
    "}\r\n",
    "\r\n",
    "\r\n",
    "class Cat: Animal\r\n",
    "{\r\n",
    "    public string CatName {get; set;}\r\n",
    "\r\n",
    "    public void Meow()\r\n",
    "    {\r\n",
    "        WriteLine(\"Meow\");\r\n",
    "    }\r\n",
    "}\r\n",
    "\r\n",
    "Animal animal = new Dog { DogName = \"Dog\"};\r\n",
    "animal = new Cat { CatName= \"Cat\"};\r\n",
    "\r\n",
    "animal.Match(\r\n",
    "(dog) => WriteLine($\"{dog.DogName}, tag: {dog.TagType}\"),\r\n",
    "(cat) => WriteLine($\"{cat.CatName}, tag: {cat.TagType}\"));\r\n",
    "\r\n",
    "\r\n",
    "WriteLine(System.Text.Json.JsonSerializer.Serialize(animal), animal.GetType(), new System.Text.Json.JsonSerializerOptions{});"
   ],
   "outputs": [
    {
     "output_type": "error",
     "ename": "Error",
     "evalue": "System.FormatException: Input string was not in a correct format.\r\n   at System.Text.StringBuilder.FormatError()\r\n   at System.Text.StringBuilder.AppendFormatHelper(IFormatProvider provider, String format, ParamsArray args)\r\n   at System.String.FormatHelper(IFormatProvider provider, String format, ParamsArray args)\r\n   at System.IO.TextWriter.WriteLine(String format, Object arg0, Object arg1)\r\n   at Microsoft.DotNet.Interactive.Utility.ConsoleOutput.ObservableStringWriter.<>n__36(String format, Object arg0, Object arg1)\r\n   at Microsoft.DotNet.Interactive.Utility.ConsoleOutput.ObservableStringWriter.<>c__DisplayClass47_0.<WriteLine>b__0() in F:\\workspace\\_work\\1\\s\\src\\Microsoft.DotNet.Interactive\\Utility\\ConsoleOutput.cs:line 393\r\n   at Microsoft.DotNet.Interactive.Utility.ConsoleOutput.ObservableStringWriter.TrackWriteOperation(Action action) in F:\\workspace\\_work\\1\\s\\src\\Microsoft.DotNet.Interactive\\Utility\\ConsoleOutput.cs:line 179\r\n   at Microsoft.DotNet.Interactive.Utility.ConsoleOutput.ObservableStringWriter.WriteLine(String format, Object arg0, Object arg1) in F:\\workspace\\_work\\1\\s\\src\\Microsoft.DotNet.Interactive\\Utility\\ConsoleOutput.cs:line 394\r\n   at System.IO.TextWriter.SyncTextWriter.WriteLine(String format, Object arg0, Object arg1)\r\n   at System.Console.WriteLine(String format, Object arg0, Object arg1)\r\n   at Submission#12.<<Initialize>>d__0.MoveNext()\r\n--- End of stack trace from previous location where exception was thrown ---\r\n   at Microsoft.CodeAnalysis.Scripting.ScriptExecutionState.RunSubmissionsAsync[TResult](ImmutableArray`1 precedingExecutors, Func`2 currentExecutor, StrongBox`1 exceptionHolderOpt, Func`2 catchExceptionOpt, CancellationToken cancellationToken)",
     "traceback": []
    }
   ]
  }
 ],
 "metadata": {
  "kernelspec": {
   "display_name": ".NET (C#)",
   "language": "C#",
   "name": ".net-csharp"
  },
  "language_info": {
   "file_extension": ".cs",
   "mimetype": "text/x-csharp",
   "name": "C#",
   "pygments_lexer": "csharp",
   "version": "8.0"
  }
 },
 "nbformat": 4,
 "nbformat_minor": 4
}