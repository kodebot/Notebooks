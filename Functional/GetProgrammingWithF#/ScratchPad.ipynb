{
 "cells": [
  {
   "cell_type": "code",
   "execution_count": 1,
   "metadata": {},
   "source": [
    "#!fsharp\n",
    "open System\n",
    "\n",
    "let yardsInMile = 1760\n",
    "let metersInYard = 0.9144\n",
    "\n",
    "let  milesYardToDecimal (milesYard:float):float =\n",
    "    raise <| NotImplementedException()\n",
    "\n",
    "milesYardToDecimal 10.6"
   ],
   "outputs": [
    {
     "output_type": "error",
     "ename": "Error",
     "evalue": "System.NotImplementedException: The method or operation is not implemented.\r\n   at <StartupCode$FSI_0009>.$FSI_0009.main@()",
     "traceback": []
    }
   ]
  }
 ],
 "metadata": {
  "kernelspec": {
   "display_name": ".NET (C#)",
   "language": "C#",
   "name": ".net-csharp"
  },
  "language_info": {
   "file_extension": ".cs",
   "mimetype": "text/x-csharp",
   "name": "C#",
   "pygments_lexer": "csharp",
   "version": "8.0"
  }
 },
 "nbformat": 4,
 "nbformat_minor": 4
}