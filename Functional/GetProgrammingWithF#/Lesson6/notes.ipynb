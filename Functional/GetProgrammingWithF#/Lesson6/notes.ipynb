{
 "cells": [
  {
   "cell_type": "code",
   "execution_count": 1,
   "metadata": {},
   "source": [
    "#!fsharp\n",
    "let add (a: int, b: int): int =\n",
    "    a + b\n",
    "\n",
    "printf \"%O\" add"
   ],
   "outputs": [
    {
     "output_type": "execute_result",
     "data": {
      "text/plain": "FSI_0007+it@4-2"
     },
     "execution_count": 1,
     "metadata": {}
    }
   ]
  }
 ],
 "metadata": {
  "kernelspec": {
   "display_name": ".NET (C#)",
   "language": "C#",
   "name": ".net-csharp"
  },
  "language_info": {
   "file_extension": ".cs",
   "mimetype": "text/x-csharp",
   "name": "C#",
   "pygments_lexer": "csharp",
   "version": "8.0"
  }
 },
 "nbformat": 4,
 "nbformat_minor": 4
}