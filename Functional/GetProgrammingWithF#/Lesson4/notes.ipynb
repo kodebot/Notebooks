{
 "cells": [
  {
   "cell_type": "code",
   "execution_count": 1,
   "metadata": {},
   "source": [
    "#!fsharp\n",
    "printf \"%A\" System.DateTime.Now"
   ],
   "outputs": [
    {
     "output_type": "execute_result",
     "data": {
      "text/plain": "07/12/2020 17:15:57"
     },
     "execution_count": 1,
     "metadata": {}
    }
   ]
  },
  {
   "cell_type": "code",
   "execution_count": 1,
   "metadata": {},
   "source": [
    "#!fsharp\n",
    "let pi = 3.14\n",
    "let url = System.Uri \"http://kodebot.com\"\n",
    "let add first second = first + second\n",
    "\n",
    "\n",
    "add 1 3 |> printf \"%A\"\n",
    "\n",
    "// repurpose symbol using let in the same scope (not possible top level) - this is called shadowing\n",
    "\n",
    "let scope1() = \n",
    "    let s = \"test\"\n",
    "    printf \"%A\" s\n",
    "    let s = \"Mani\"\n",
    "    printf \"%A\" s\n",
    "    s\n",
    "\n",
    "scope1()"
   ],
   "outputs": [
    {
     "output_type": "execute_result",
     "data": {
      "text/plain": "4"
     },
     "execution_count": 1,
     "metadata": {}
    },
    {
     "output_type": "execute_result",
     "data": {
      "text/plain": "\"test\""
     },
     "execution_count": 1,
     "metadata": {}
    },
    {
     "output_type": "execute_result",
     "data": {
      "text/plain": "\"Mani\""
     },
     "execution_count": 1,
     "metadata": {}
    },
    {
     "output_type": "execute_result",
     "data": {
      "text/plain": "Mani"
     },
     "execution_count": 1,
     "metadata": {}
    }
   ]
  },
  {
   "cell_type": "code",
   "execution_count": 1,
   "metadata": {},
   "source": [
    "#!fsharp\n",
    "// indentation creates scope\n",
    "// here age is scoped only inside the howOld block - note howOld is not a function\n",
    "\n",
    "let howOld =\n",
    "    let age = \n",
    "        System.DateTime.Now.Year - 1983\n",
    "    sprintf \"You are %d years old\" age\n",
    "\n",
    "howOld"
   ],
   "outputs": [
    {
     "output_type": "execute_result",
     "data": {
      "text/plain": "You are 37 years old"
     },
     "execution_count": 1,
     "metadata": {}
    }
   ]
  },
  {
   "cell_type": "markdown",
   "metadata": {},
   "source": [
    "* Closure is supported\n",
    "\n",
    "* No Cyclical Dependency - so if a Type A uses Type B then Type B must be declared before Type A\n",
    "\n",
    "* File Order matters - file at the bottom can use things defined in files in the top but not the otherway around\n",
    ""
   ]
  },
  {
   "cell_type": "code",
   "execution_count": 1,
   "metadata": {},
   "source": [
    "#!fsharp\n",
    "open System\n",
    "open System.Net\n",
    "\n",
    "let webClient = new WebClient()\n",
    "let content = webClient.DownloadString(Uri \"http://kodebot.com\")\n",
    "content\n",
    ""
   ],
   "outputs": [
    {
     "output_type": "execute_result",
     "data": {
      "text/plain": "\n<!DOCTYPE html>\n<html lang=\"en\" class=\"js csstransforms3d\">\n\n<head>\n  <meta charset=\"utf-8\">\n  <meta name=\"viewport\" content=\"width=device-width, initial-scale=1.0\">\n  <meta name=\"generator\" content=\"Hugo 0.57.2\" />\n  <meta name=\"description\" content=\"\">\n\n\n  <link rel=\"icon\" href=\"/images/favicon.ico\" type=\"image/png\">\n  <title>Kodebot</title>\n\n  \n  <link href=\"/css/nucleus.css?1569361479\" rel=\"stylesheet\">\n  <link href=\"/css/fontawesome-all.min.css?1569361479\"\n    rel=\"stylesheet\">\n  <link href=\"/css/hybrid.css?1569361479\" rel=\"stylesheet\">\n  <link href=\"/css/featherlight.min.css?1569361479\" rel=\"stylesheet\">\n  <link href=\"/css/perfect-scrollbar.min.css?1569361479\"\n    rel=\"stylesheet\">\n  <link href=\"/css/auto-complete.css?1569361479\" rel=\"stylesheet\">\n  <link href=\"/css/atom-one-dark-reasonable.css?1569361479\"\n    rel=\"stylesheet\">\n  <link href=\"/css/theme.css?1569361479\" rel=\"stylesheet\">\n  <link href=\"/css/hugo-theme.css?1569361479\" rel=\"stylesheet\">\n  \n  <link href=\"/css/theme-mine.css?1569361479\"\n    rel=\"stylesheet\">\n  \n\n    \n  <link rel=\"stylesheet\" type=\"text/css\" href=\"https://cdn.jsdelivr.net/npm/cookieconsent@3/build/cookieconsent.min.css\" />\n  \n\n  <script src=\"/js/jquery-3.3.1.min.js?1569361479\"></script>\n \n\n  \n\n\n</head>\n\n<body>\n\n  <nav class=\"main-menu\">\n    <div class=\"logo\">\n        <a href=\"https://kodebot.com/\">\n            <img src=\"/images/logo.png\" style=\"background: white; padding-right: 2px;\">\n        </a>\n    </div>\n    <ul>\n        \n        \n        \n                \n        <li >\n            <a href=\"/blog/\" >\n                Blog\n            </a>\n        </li>\n\n        \n                \n        <li >\n            <a href=\"/tutorials/\" >\n                Tutorials\n            </a>\n        </li>\n\n        \n                \n        <li >\n            <a href=\"/about/\" >\n                About\n            </a>\n        </li>\n\n        \n        \n    </ul>\n</nav>\n\n  <section id=\"body\" class=\"no-sidebar\">\n    <div class=\"padding\">\n      <section class=\"recent-posts\">\n        <h3>Recent posts</h3>\n        <ul>\n          \n          <li>\n            <a href=\"/blog/2015/nodejs-loops/\">\n              NodeJs: Loops, Closure and Async Invocation\n            </a>\n          </li>\n          \n          <li>\n            <a href=\"/blog/2015/exception-handling-in-nodejs/\">\n              Exception Handling in NodeJS\n            </a>\n          </li>\n          \n          <li>\n            <a href=\"/blog/2015/unit-testing-entity-framework-async-queries/\">\n              Unit Testing Entity Framework async Queries\n            </a>\n          </li>\n          \n          <li>\n            <a href=\"/blog/2015/unit-testing-entity-framework-queries/\">\n              Unit Testing Entity Framework Queries\n            </a>\n          </li>\n          \n          <li>\n            <a href=\"/blog/2015/vs-tac-cordova-version/\">\n              VS-TAC - Cordova version\n            </a>\n          </li>\n          \n          <li>\n            <a href=\"/blog/2015/aspnet-mvc-5-jsonresult-with-http-status-code-400/\">\n              ASP.NET MVC 5 - JsonResult with Http Status Code 400\n            </a>\n          </li>\n          \n          <li>\n            <a href=\"/blog/2015/angularjs-1x-validation-on-file-input-type/\">\n              AngularJS 1.x - Validation on File Input type\n            </a>\n          </li>\n          \n          <li>\n            <a href=\"/blog/2015/angular-1x-unit-testing-a-function-that-returns-promise/\">\n              Angular 1.x - Unit Testing a function that returns Promise\n            </a>\n          </li>\n          \n          <li>\n            <a href=\"/blog/2015/typescript-accessing-object-with-null-key/\">\n              TypeScript - Accessing object with null key\n            </a>\n          </li>\n          \n          <li>\n            <a href=\"/blog/2015/aspnet-mvc-5-hosting-for-integration-e2e-testing/\">\n              ASP.NET MVC 5 Hosting for Integration / E2E Testing\n            </a>\n          </li>\n          \n        </ul>\n      </section>\n\n      <section class=\"tutorials\">\n        <h3>Tutorials</h3>\n        <ul>\n          \n          \n          <li>\n            <a href=\"/tutorials/automated-unit-testing-basics/\" style=\"display:inline-block\">\n                \n                \n                <div style=\"display:inline-block; height: 100px; vertical-align: middle\">\n              Automated unit testing basics\n            </div>\n            </a>\n          </li>\n          \n          <li>\n            <a href=\"/tutorials/solid-principles/\" style=\"display:inline-block\">\n                \n                \n                  \n                    \n                      <img src=\"/tutorials/solid-principles/thumbnail.jpg\" height=\"100\" style=\"display:inline-block; margin:0\"/>\n                    \n                  \n                    \n                  \n                \n                <div style=\"display:inline-block; height: 100px; vertical-align: middle\">\n              SOLID Principles\n            </div>\n            </a>\n          </li>\n          \n          \n        </ul>\n      </section>\n\n  \n</div>\n</section>\n    \n<div style=\"left: -1000px; overflow: scroll; position: absolute; top: -1000px; border: none; box-sizing: content-box; height: 200px; margin: 0px; padding: 0px; width: 200px;\">\n  <div style=\"border: none; box-sizing: content-box; height: 200px; margin: 0px; padding: 0px; width: 200px;\"></div>\n</div>\n<script src=\"/js/clipboard.min.js?1569361479\"></script>\n<script src=\"/js/perfect-scrollbar.min.js?1569361479\"></script>\n<script src=\"/js/perfect-scrollbar.jquery.min.js?1569361479\"></script>\n<script src=\"/js/jquery.sticky.js?1569361479\"></script>\n<script src=\"/js/featherlight.min.js?1569361479\"></script>\n<script src=\"/js/html5shiv-printshiv.min.js?1569361479\"></script>\n<script src=\"/js/highlight.pack.js?1569361479\"></script>\n<script>hljs.initHighlightingOnLoad();</script>\n<script src=\"/js/modernizr.custom-3.6.0.js?1569361479\"></script>\n<script src=\"/js/learn.js?1569361479\"></script>\n<script src=\"/js/hugo-learn.js?1569361479\"></script>\n\n<link href=\"/mermaid/mermaid.css?1569361479\" type=\"text/css\" rel=\"stylesheet\" />\n<script src=\"/mermaid/mermaid.js?1569361479\"></script>\n<script>\n    mermaid.initialize({ startOnLoad: true });\n</script>\n\n\n\n    <div class=\"custom-footer\">\n        <div class=\"copy\">\n            &copy; 2014 - 2019 Kodebot Limited. All Rights Reserved.<br>\n        </div>\n        <div class=\"license\">\n            All content on this website is licensed under the <a href=\"http://creativecommons.org/licenses/by-sa/3.0/\">\n                (CC\n                BY-SA 3.0)\n                Creative Commons Attribution-ShareAlike 3.0 Unported License</a>. All source code published here is\n            licensed\n            under the\n            <a href=\"http://opensource.org/licenses/MIT\"> MIT License</a> unless explicitly stated otherwise. The\n            content is\n            provided for\n            educational and informational purposes only without any warranties, guarantees or conditions, of any kind,\n            and\n            may not be accurate,\n            up to date or complete. Any use or reliance on any content or materials published, mentioned or linked here\n            is\n            at your own risk and\n            the Kodebot Limited and author/authors accept no liability or responsibility for.\n        </div>\n    </div>\n\n\n\n<script src=\"https://cdn.jsdelivr.net/npm/cookieconsent@3/build/cookieconsent.min.js\" data-cfasync=\"false\"></script>\n<script>\nwindow.cookieconsent.initialise({\n  \"palette\": {\n    \"popup\": {\n      \"background\": \"#3937a3\"\n    },\n    \"button\": {\n      \"background\": \"red\"\n    }\n  }\n});\n</script>\n\n\n\n<script type=\"application/javascript\">\nvar doNotTrack = false;\nif (!doNotTrack) {\n\twindow.ga=window.ga||function(){(ga.q=ga.q||[]).push(arguments)};ga.l=+new Date;\n\tga('create', 'UA-146320930-1', 'auto');\n\t\n\tga('send', 'pageview');\n}\n</script>\n<script async src='https://www.google-analytics.com/analytics.js'></script>\n\n\n\n\n<script type=\"text/javascript\">\n  var vglnk = {key: '1b96d3cbccc60ff70400c5266777c7e5'};\n  (function(d, t) {\n      var s = d.createElement(t);\n          s.type = 'text/javascript';\n          s.async = true;\n          s.src = '//cdn.viglink.com/api/vglnk.js';\n      var r = d.getElementsByTagName(t)[0];\n          r.parentNode.insertBefore(s, r);\n  }(document, 'script'));\n</script>\n\n\n</body>\n</html>"
     },
     "execution_count": 1,
     "metadata": {}
    }
   ]
  }
 ],
 "metadata": {
  "kernelspec": {
   "display_name": ".NET (C#)",
   "language": "C#",
   "name": ".net-csharp"
  },
  "language_info": {
   "file_extension": ".cs",
   "mimetype": "text/x-csharp",
   "name": "C#",
   "pygments_lexer": "csharp",
   "version": "8.0"
  }
 },
 "nbformat": 4,
 "nbformat_minor": 4
}