{
 "cells": [
  {
   "cell_type": "code",
   "execution_count": 1,
   "metadata": {},
   "source": [
    "#!fsharp\n",
    "printf \"%A\" System.DateTime.Now"
   ],
   "outputs": [
    {
     "output_type": "execute_result",
     "data": {
      "text/plain": "07/12/2020 17:15:57"
     },
     "execution_count": 1,
     "metadata": {}
    }
   ]
  },
  {
   "cell_type": "code",
   "execution_count": 1,
   "metadata": {},
   "source": [
    "#!fsharp\n",
    "let pi = 3.14\n",
    "let url = System.Uri \"http://kodebot.com\"\n",
    "let add first second = first + second\n",
    "\n",
    "\n",
    "add 1 3 |> printf \"%A\"\n",
    "\n",
    "// repurpose symbol using let in the same scope (not possible top level) - this is called shadowing\n",
    "\n",
    "let scope1() = \n",
    "    let s = \"test\"\n",
    "    printf \"%A\" s\n",
    "    let s = \"Mani\"\n",
    "    printf \"%A\" s\n",
    "    s\n",
    "\n",
    "scope1()"
   ],
   "outputs": [
    {
     "output_type": "execute_result",
     "data": {
      "text/plain": "4"
     },
     "execution_count": 1,
     "metadata": {}
    },
    {
     "output_type": "execute_result",
     "data": {
      "text/plain": "\"test\""
     },
     "execution_count": 1,
     "metadata": {}
    },
    {
     "output_type": "execute_result",
     "data": {
      "text/plain": "\"Mani\""
     },
     "execution_count": 1,
     "metadata": {}
    },
    {
     "output_type": "execute_result",
     "data": {
      "text/plain": "Mani"
     },
     "execution_count": 1,
     "metadata": {}
    }
   ]
  },
  {
   "cell_type": "code",
   "execution_count": 1,
   "metadata": {},
   "source": [
    "#!fsharp\n",
    "// indentation creates scope\n",
    "// here age is scoped only inside the howOld block - note howOld is not a function\n",
    "\n",
    "let howOld =\n",
    "    let age = \n",
    "        System.DateTime.Now.Year - 1983\n",
    "    sprintf \"You are %d years old\" age\n",
    "\n",
    "howOld"
   ],
   "outputs": [
    {
     "output_type": "execute_result",
     "data": {
      "text/plain": "You are 37 years old"
     },
     "execution_count": 1,
     "metadata": {}
    }
   ]
  },
  {
   "cell_type": "markdown",
   "metadata": {},
   "source": [
    "* Closure is supported\n",
    "\n",
    "* No Cyclical Dependency - so if a Type A uses Type B then Type B must be declared before Type A\n",
    "\n",
    "* File Order matters - file at the bottom can use things defined in files in the top but not the otherway around\n",
    ""
   ]
  },
  {
   "cell_type": "code",
   "execution_count": 1,
   "metadata": {},
   "source": [
    "#!fsharp\n",
    "open System\n",
    "open System.Net\n",
    "\n",
    "let webClient = new WebClient()\n",
    "let content = webClient.DownloadString(Uri \"http://kodebot.com\")\n",
    "content\n",
    ""
   ],
   "outputs": [
    {
     "output_type": "error",
     "ename": "Error",
     "evalue": "(1,12): error CS1002: ; expected",
     "traceback": []
    }
   ]
  }
 ],
 "metadata": {
  "kernelspec": {
   "display_name": ".NET (C#)",
   "language": "C#",
   "name": ".net-csharp"
  },
  "language_info": {
   "file_extension": ".cs",
   "mimetype": "text/x-csharp",
   "name": "C#",
   "pygments_lexer": "csharp",
   "version": "8.0"
  }
 },
 "nbformat": 4,
 "nbformat_minor": 4
}