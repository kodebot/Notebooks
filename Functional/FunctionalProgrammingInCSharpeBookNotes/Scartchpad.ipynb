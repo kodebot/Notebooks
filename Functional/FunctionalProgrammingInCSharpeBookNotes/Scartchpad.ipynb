{
  "cells": [
    {
      "cell_type": "code",
      "execution_count": 1,
      "metadata": {
        "dotnet_interactive": {
          "language": "csharp"
        }
      },
      "source": [
        "#r \"nuget:LanguageExt.Core\"\n",
        "\n",
        "using LanguageExt;\n",
        "using static LanguageExt.Prelude;\n",
        "\n",
        "var value = Some(10);\n",
        "\n",
        "var result = value\n",
        ".Select(r => r * 10)\n",
        ".Match(x => x, () => 0);\n",
        "\n",
        "\n",
        "result\n",
        "\n",
        "\n",
        "\n",
        ""
      ],
      "outputs": [
        {
          "output_type": "execute_result",
          "data": {
            "text/html": "<div class=\"dni-plaintext\">10</div>"
          },
          "execution_count": 1,
          "metadata": {}
        }
      ]
    }
  ],
  "metadata": {
    "kernelspec": {
      "display_name": ".NET (C#)",
      "language": "C#",
      "name": ".net-csharp"
    },
    "language_info": {
      "file_extension": ".cs",
      "mimetype": "text/x-csharp",
      "name": "C#",
      "pygments_lexer": "csharp",
      "version": "8.0"
    }
  },
  "nbformat": 4,
  "nbformat_minor": 4
}