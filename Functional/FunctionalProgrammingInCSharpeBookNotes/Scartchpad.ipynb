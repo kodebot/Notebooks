{
  "cells": [
    {
      "cell_type": "code",
      "execution_count": null,
      "metadata": {
        "dotnet_interactive": {
          "language": "csharp"
        }
      },
      "outputs": [
        {
          "data": {
            "text/plain": "Installed package LanguageExt.Core version 3.4.15"
          },
          "execution_count": 1,
          "metadata": {},
          "output_type": "execute_result"
        },
        {
          "data": {
            "text/html": "<div class=\"dni-plaintext\">True</div>"
          },
          "execution_count": 1,
          "metadata": {},
          "output_type": "execute_result"
        }
      ],
      "source": [
        "#r \"nuget:LanguageExt.Core\"\n",
        "\n",
        "using LanguageExt;\n",
        "using static LanguageExt.Prelude;\n",
        "\n",
        "Func<int, bool> isOdd = x => x % 2 == 1;\n",
        "var value = Some(11);\n",
        "var result = value\n",
        "    .Select(x => x* 3)\n",
        "    .Select(isOdd)\n",
        "    .Match(x => x, () => false);\n",
        "result\n",
        "\n",
        "\n"
      ]
    },
    {
      "cell_type": "code",
      "execution_count": null,
      "metadata": {
        "dotnet_interactive": {
          "language": "csharp"
        }
      },
      "outputs": [
        {
          "data": {
            "text/plain": "0\r\n"
          },
          "output_type": "unknown"
        }
      ],
      "source": [
        "using static System.Linq.Enumerable;\r\n",
        "using static System.Console;\r\n",
        "\r\n",
        "var list = Range(-100, 201).ToList();\r\n",
        "WriteLine(list.Sum());\r\n",
        "\r\n"
      ]
    },
    {
      "cell_type": "code",
      "execution_count": null,
      "metadata": {
        "dotnet_interactive": {
          "language": "csharp"
        }
      },
      "outputs": [
        {
          "data": {
            "text/plain": "0\r\n"
          },
          "output_type": "unknown"
        }
      ],
      "source": [
        "using static System.Console;\r\n",
        "\r\n",
        "var x = 0;\r\n",
        "do{\r\n",
        "    WriteLine(x);\r\n",
        "    x--;\r\n",
        "}while(x > 0);\r\n",
        "\r\n"
      ]
    },
    {
      "cell_type": "code",
      "execution_count": null,
      "metadata": {
        "dotnet_interactive": {
          "language": "csharp"
        }
      },
      "outputs": [
        {
          "data": {
            "text/plain": "0\r\n"
          },
          "output_type": "unknown"
        }
      ],
      "source": [
        "using System.Linq;\r\n",
        "using static System.Console;\r\n",
        "\r\n",
        "var list = new List<int>{2, 3};\r\n",
        "\r\n",
        "var result = list.Aggregate(0, (x, y) => x * y);\r\n",
        "WriteLine(result);\r\n",
        "\r\n"
      ]
    },
    {
      "cell_type": "code",
      "execution_count": null,
      "metadata": {
        "dotnet_interactive": {
          "language": "csharp"
        }
      },
      "outputs": [
        {
          "data": {
            "text/plain": "1\r\n"
          },
          "output_type": "unknown"
        }
      ],
      "source": [
        "using static System.Console;\r\n",
        "\r\n",
        "var counter = 2;\r\n",
        "var task1 = Task.Run(() =>WriteLine(--counter));\r\n",
        "await task1;\r\n",
        "\r\n",
        "\r\n"
      ]
    },
    {
      "cell_type": "code",
      "execution_count": null,
      "metadata": {
        "dotnet_interactive": {
          "language": "csharp"
        }
      },
      "outputs": [
        {
          "data": {
            "text/plain": "False\r\n"
          },
          "output_type": "unknown"
        }
      ],
      "source": [
        "using static System.Console;\r\n",
        "\r\n",
        "Func<int, int, int> Add = (x, y) => x - y;\r\n",
        "WriteLine(Add(1, Add(2, 3)) == Add(Add(1, 2), 3));\r\n",
        "\r\n"
      ]
    },
    {
      "cell_type": "code",
      "execution_count": null,
      "metadata": {
        "dotnet_interactive": {
          "language": "javascript"
        }
      },
      "outputs": [
        {
          "data": {
            "text/html": "<script type=\"text/javascript\">\nif (typeof window.createDotnetInteractiveClient === typeof Function) {\n    window.createDotnetInteractiveClient('http://localhost:58807/').then(async function (interactive) {\n        const console = interactive.getConsole('544');\n        const notebookScope = getDotnetInteractiveScope('http://localhost:58807/');\n        try {\n\nawait Object.getPrototypeOf(async function() {}).constructor(\n    \"interactive\",\n    \"console\",\n    \"notebookScope\",\n    \"var x = 1;\\r\\n\\r\\nwhile(x--){\\r\\n    console.log(x);\\r\\n}\\r\\n\"\n)(\n    interactive,\n    console,\n    notebookScope\n);\n\n        } catch (err) {\n            interactive.failCommand(err, '544');\n        } finally {\n            await interactive.waitForAllEventsToPublish('544');\n            await interactive.markExecutionComplete('544');\n        }\n    });\n}\n</script>"
          },
          "output_type": "unknown"
        },
        {
          "data": {
            "application/json": 0
          },
          "output_type": "unknown"
        }
      ],
      "source": [
        "var x = 1;\r\n",
        "\r\n",
        "while(x--){\r\n",
        "    console.log(x);\r\n",
        "}\r\n",
        "\r\n",
        "\r\n"
      ]
    },
    {
      "cell_type": "code",
      "execution_count": null,
      "metadata": {
        "dotnet_interactive": {
          "language": "javascript"
        }
      },
      "outputs": [
        {
          "data": {
            "text/html": "<script type=\"text/javascript\">\nif (typeof window.createDotnetInteractiveClient === typeof Function) {\n    window.createDotnetInteractiveClient('http://localhost:58807/').then(async function (interactive) {\n        const console = interactive.getConsole('608');\n        const notebookScope = getDotnetInteractiveScope('http://localhost:58807/');\n        try {\n\nawait Object.getPrototypeOf(async function() {}).constructor(\n    \"interactive\",\n    \"console\",\n    \"notebookScope\",\n    \"console.log(\\u00272\\u0027 == 2);\"\n)(\n    interactive,\n    console,\n    notebookScope\n);\n\n        } catch (err) {\n            interactive.failCommand(err, '608');\n        } finally {\n            await interactive.waitForAllEventsToPublish('608');\n            await interactive.markExecutionComplete('608');\n        }\n    });\n}\n</script>"
          },
          "output_type": "unknown"
        },
        {
          "data": {
            "application/json": true
          },
          "output_type": "unknown"
        }
      ],
      "source": [
        "console.log('2' == 2); //two = signs\r\n",
        "\r\n"
      ]
    },
    {
      "cell_type": "code",
      "execution_count": null,
      "metadata": {
        "dotnet_interactive": {
          "language": "javascript"
        }
      },
      "outputs": [
        {
          "data": {
            "text/html": "<script type=\"text/javascript\">\nif (typeof window.createDotnetInteractiveClient === typeof Function) {\n    window.createDotnetInteractiveClient('http://localhost:58807/').then(async function (interactive) {\n        const console = interactive.getConsole('678');\n        const notebookScope = getDotnetInteractiveScope('http://localhost:58807/');\n        try {\n\nawait Object.getPrototypeOf(async function() {}).constructor(\n    \"interactive\",\n    \"console\",\n    \"notebookScope\",\n    \"if(null){\\r\\n    console.log(\\\"null\\\");\\r\\n}else{\\r\\n    console.log(\\\"not null\\\");\\r\\n}\"\n)(\n    interactive,\n    console,\n    notebookScope\n);\n\n        } catch (err) {\n            interactive.failCommand(err, '678');\n        } finally {\n            await interactive.waitForAllEventsToPublish('678');\n            await interactive.markExecutionComplete('678');\n        }\n    });\n}\n</script>"
          },
          "output_type": "unknown"
        },
        {
          "data": {
            "text/plain": "not null"
          },
          "output_type": "unknown"
        }
      ],
      "source": [
        "if(null){\r\n",
        "    console.log(\"null\");\r\n",
        "}else{\r\n",
        "    console.log(\"not null\");\r\n",
        "}\r\n",
        "\r\n"
      ]
    },
    {
      "cell_type": "code",
      "execution_count": null,
      "metadata": {
        "dotnet_interactive": {
          "language": "javascript"
        }
      },
      "outputs": [
        {
          "data": {
            "text/html": "<script type=\"text/javascript\">\nif (typeof window.createDotnetInteractiveClient === typeof Function) {\n    window.createDotnetInteractiveClient('http://localhost:58807/').then(async function (interactive) {\n        const console = interactive.getConsole('836');\n        const notebookScope = getDotnetInteractiveScope('http://localhost:58807/');\n        try {\n\nawait Object.getPrototypeOf(async function() {}).constructor(\n    \"interactive\",\n    \"console\",\n    \"notebookScope\",\n    \"let numbers = [1, 3, 5];\\r\\nlet isOdd = x =\\u003e x % 2 == 1;\\r\\nlet and = (x, y) =\\u003e x \\u0026\\u0026 y;\\r\\n\\r\\nlet result = numbers\\r\\n    .map(isOdd)\\r\\n    .reduce(and, false);\\r\\nconsole.log(result);\"\n)(\n    interactive,\n    console,\n    notebookScope\n);\n\n        } catch (err) {\n            interactive.failCommand(err, '836');\n        } finally {\n            await interactive.waitForAllEventsToPublish('836');\n            await interactive.markExecutionComplete('836');\n        }\n    });\n}\n</script>"
          },
          "output_type": "unknown"
        },
        {
          "data": {
            "application/json": false
          },
          "output_type": "unknown"
        }
      ],
      "source": [
        "let numbers = [1, 3, 5];\r\n",
        "let isOdd = x => x % 2 == 1;\r\n",
        "let and = (x, y) => x && y;\r\n",
        "\r\n",
        "let result = numbers\r\n",
        "    .map(isOdd)\r\n",
        "    .reduce(and, false);\r\n",
        "\r\n",
        "console.log(result);\r\n",
        "\r\n"
      ]
    },
    {
      "cell_type": "code",
      "execution_count": null,
      "metadata": {
        "dotnet_interactive": {
          "language": "javascript"
        }
      },
      "outputs": [
        {
          "data": {
            "text/html": "<script type=\"text/javascript\">\nif (typeof window.createDotnetInteractiveClient === typeof Function) {\n    window.createDotnetInteractiveClient('http://localhost:58807/').then(async function (interactive) {\n        const console = interactive.getConsole('1080');\n        const notebookScope = getDotnetInteractiveScope('http://localhost:58807/');\n        try {\n\nawait Object.getPrototypeOf(async function() {}).constructor(\n    \"interactive\",\n    \"console\",\n    \"notebookScope\",\n    \"let task = new Promise((resolve, reject) =\\u003e {\\r\\n        if(false){\\r\\n            reject(\\\"error\\\");\\r\\n        }else{\\r\\n            resolve(\\\"success\\\");\\r\\n        }\\r\\n});\\r\\n\\r\\ntask\\r\\n.then(s =\\u003e console.log(s))\\r\\n.catch(e =\\u003e console.log(e));\\r\\n\"\n)(\n    interactive,\n    console,\n    notebookScope\n);\n\n        } catch (err) {\n            interactive.failCommand(err, '1080');\n        } finally {\n            await interactive.waitForAllEventsToPublish('1080');\n            await interactive.markExecutionComplete('1080');\n        }\n    });\n}\n</script>"
          },
          "output_type": "unknown"
        },
        {
          "data": {
            "text/plain": "success"
          },
          "output_type": "unknown"
        }
      ],
      "source": [
        "let task = new Promise((resolve, reject) => {\r\n",
        "        if(false){\r\n",
        "            reject(\"error\");\r\n",
        "        }else{\r\n",
        "            resolve(\"success\");\r\n",
        "        }\r\n",
        "});\r\n",
        "\r\n",
        "task\r\n",
        ".then(s => console.log(s))\r\n",
        ".catch(e => console.log(e));\r\n",
        "\r\n",
        "\r\n"
      ]
    },
    {
      "cell_type": "code",
      "execution_count": null,
      "metadata": {
        "dotnet_interactive": {
          "language": "javascript"
        }
      },
      "outputs": [
        {
          "data": {
            "text/html": "<script type=\"text/javascript\">\nif (typeof window.createDotnetInteractiveClient === typeof Function) {\n    window.createDotnetInteractiveClient('http://localhost:58807/').then(async function (interactive) {\n        const console = interactive.getConsole('1188');\n        const notebookScope = getDotnetInteractiveScope('http://localhost:58807/');\n        try {\n\nawait Object.getPrototypeOf(async function() {}).constructor(\n    \"interactive\",\n    \"console\",\n    \"notebookScope\",\n    \"function abc(){\\r\\n    console.log(arguments);\\r\\n}\\r\\n\\r\\nabc(\\\"test\\\", 2);\"\n)(\n    interactive,\n    console,\n    notebookScope\n);\n\n        } catch (err) {\n            interactive.failCommand(err, '1188');\n        } finally {\n            await interactive.waitForAllEventsToPublish('1188');\n            await interactive.markExecutionComplete('1188');\n        }\n    });\n}\n</script>"
          },
          "output_type": "unknown"
        },
        {
          "data": {
            "application/json": {
              "0": "test",
              "1": 2
            }
          },
          "output_type": "unknown"
        }
      ],
      "source": [
        "function abc(){\r\n",
        "    console.log(arguments);\r\n",
        "}\r\n",
        "\r\n",
        "abc(\"test\", 2);"
      ]
    },
    {
      "cell_type": "code",
      "execution_count": null,
      "metadata": {
        "dotnet_interactive": {
          "language": "javascript"
        }
      },
      "outputs": [],
      "source": [
        "import { Injectable } from '@angular/core';\r\n",
        "\r\n",
        "export class DateService {\r\n",
        "\r\n",
        "    @Injectable({\r\n",
        "        providedIn: 'root',\r\n",
        "    })\r\n",
        "    constructor() { }\r\n",
        "}\r\n",
        "\r\n",
        "\r\n"
      ]
    },
    {
      "cell_type": "code",
      "execution_count": null,
      "metadata": {
        "dotnet_interactive": {
          "language": "javascript"
        }
      },
      "outputs": [],
      "source": [
        "import { Component } from '@angular/core';\r\n",
        "\r\n",
        "@Component({\r\n",
        "  templateUrl: './card-payment.component.html',\r\n",
        "})\r\n",
        "export class PaymentComponent {\r\n",
        "  constructor() { }\r\n",
        "}\r\n",
        "\r\n"
      ]
    },
    {
      "cell_type": "code",
      "execution_count": null,
      "metadata": {
        "dotnet_interactive": {
          "language": "javascript"
        }
      },
      "outputs": [],
      "source": [
        "<input [(*ngModel)]=\"firstName\" id=\"firstName\">\r\n",
        "\r\n"
      ]
    },
    {
      "cell_type": "code",
      "execution_count": null,
      "metadata": {
        "dotnet_interactive": {
          "language": "javascript"
        }
      },
      "outputs": [],
      "source": [
        "class Student extends React.Component {\r\n",
        "  constructor(props) {\r\n",
        "    super(props);\r\n",
        "    this.state = {\r\n",
        "      grade: 0,\r\n",
        "    };\r\n",
        "  }\r\n",
        "\r\n",
        "  render() {\r\n",
        "    return (\r\n",
        "      <button\r\n",
        "        onClick={() => this.setState((prev) => ({grade: grade * prev.grade }))}\r\n",
        "      >\r\n",
        "        {this.state.grade}\r\n",
        "      </button>\r\n",
        "    );\r\n",
        "  }\r\n",
        "}\r\n",
        "\r\n",
        "\r\n"
      ]
    },
    {
      "cell_type": "code",
      "execution_count": null,
      "metadata": {
        "dotnet_interactive": {
          "language": "javascript"
        }
      },
      "outputs": [],
      "source": [
        "function UserDisplay(props) {\r\n",
        "  const isLoggedIn = props.isLoggedIn;\r\n",
        "  if (isLoggedIn) {\r\n",
        "    return <div>user logged in</div>;\r\n",
        "  }\r\n",
        "  return <div>user not logged in </div>;\r\n",
        "}\r\n",
        "\r\n",
        "ReactDOM.render(\r\n",
        "  <UserDisplay isLoggedIn={!!false} />,\r\n",
        "  document.getElementById('root')\r\n",
        ");\r\n",
        "\r\n"
      ]
    },
    {
      "cell_type": "code",
      "execution_count": null,
      "metadata": {
        "dotnet_interactive": {
          "language": "javascript"
        }
      },
      "outputs": [],
      "source": [
        "class Columns extends React.Component {\r\n",
        "  render() {\r\n",
        "    return (\r\n",
        "      <>\r\n",
        "        <td>Hello</td>\r\n",
        "        <td>World</td>\r\n",
        "      </>\r\n",
        "    );\r\n",
        "  }\r\n",
        "}\r\n",
        "\r\n"
      ]
    }
  ],
  "metadata": {
    "kernelspec": {
      "display_name": ".NET (C#)",
      "language": "C#",
      "name": ".net-csharp"
    },
    "language_info": {
      "file_extension": ".cs",
      "mimetype": "text/x-csharp",
      "name": "C#",
      "pygments_lexer": "csharp",
      "version": "8.0"
    }
  },
  "nbformat": 4,
  "nbformat_minor": 4
}