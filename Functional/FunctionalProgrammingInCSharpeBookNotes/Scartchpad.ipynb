{
  "cells": [
    {
      "cell_type": "code",
      "execution_count": 1,
      "metadata": {
        "dotnet_interactive": {
          "language": "csharp"
        }
      },
      "source": [
        "#r \"nuget:LanguageExt.Core\"\n",
        "\n",
        "using LanguageExt;\n",
        "using static LanguageExt.Prelude;\n",
        "\n",
        "Func<int, bool> isOdd = x => x % 2 == 1;\n",
        "var value = Some(11);\n",
        "var result = value\n",
        "    .Select(x => x* 3)\n",
        "    .Select(isOdd)\n",
        "    .Match(x => x, () => false);\n",
        "result\n",
        "\n",
        "\n",
        ""
      ],
      "outputs": [
        {
          "output_type": "execute_result",
          "data": {
            "text/html": "<div class=\"dni-plaintext\">True</div>"
          },
          "execution_count": 1,
          "metadata": {}
        }
      ]
    }
  ],
  "metadata": {
    "kernelspec": {
      "display_name": ".NET (C#)",
      "language": "C#",
      "name": ".net-csharp"
    },
    "language_info": {
      "file_extension": ".cs",
      "mimetype": "text/x-csharp",
      "name": "C#",
      "pygments_lexer": "csharp",
      "version": "8.0"
    }
  },
  "nbformat": 4,
  "nbformat_minor": 4
}