{
  "cells": [
    {
      "cell_type": "markdown",
      "metadata": {},
      "source": [
        "# Chapter 1. Introduction to functional programming"
      ]
    },
    {
      "cell_type": "markdown",
      "metadata": {},
      "source": [
        "## 1.1 What is this thing called functional programming?\n",
        "\n",
        "At a very high level, it is a programming style that emphasises on\n",
        "1. Functions as first-class values\n",
        "2. Avoiding state mutation"
      ]
    },
    {
      "cell_type": "markdown",
      "metadata": {},
      "source": [
        "### 1.1.1 Functions as first-class values\n",
        "\n",
        "* allows function to be used as input and output of other functions\n",
        "* assign function to variables - in other words, you can treat it like a value\n",
        "\n",
        "treating function as value allow us to write very concise and powerful code"
      ]
    },
    {
      "cell_type": "code",
      "execution_count": 1,
      "metadata": {
        "dotnet_interactive": {
          "language": "csharp"
        }
      },
      "source": [
        "Func<int, int> triple = x => x * 3;\n",
        "var range = Enumerable.Range(1, 3);\n",
        "var triples = range.Select(triple);\n",
        "triples"
      ],
      "outputs": [
        {
          "output_type": "execute_result",
          "data": {
            "text/html": "<table><thead><tr><th><i>index</i></th><th>value</th></tr></thead><tbody><tr><td>0</td><td><div class=\"dni-plaintext\">3</div></td></tr><tr><td>1</td><td><div class=\"dni-plaintext\">6</div></td></tr><tr><td>2</td><td><div class=\"dni-plaintext\">9</div></td></tr></tbody></table>"
          },
          "execution_count": 1,
          "metadata": {}
        }
      ]
    },
    {
      "cell_type": "markdown",
      "metadata": {},
      "source": [
        "### 1.1.2 Avoiding state mutation\n",
        "\n",
        "When following functional paradigm, we should refrain from state mutation.\n",
        "\n",
        "* once created, an object `never` changes and variables should `never` be reassigned\n",
        "\n",
        "`muataion` means that a value is changed in-place. It is also referred to as destructive updates\n",
        ""
      ]
    },
    {
      "cell_type": "code",
      "execution_count": 1,
      "metadata": {
        "dotnet_interactive": {
          "language": "csharp"
        }
      },
      "source": [
        "var nums = new List<int>{1, 2, 3 };\n",
        "nums[2] = 7;\n",
        "\n",
        "nums // original list is mutated"
      ],
      "outputs": [
        {
          "output_type": "execute_result",
          "data": {
            "text/html": "<table><thead><tr><th><i>index</i></th><th>value</th></tr></thead><tbody><tr><td>0</td><td><div class=\"dni-plaintext\">1</div></td></tr><tr><td>1</td><td><div class=\"dni-plaintext\">2</div></td></tr><tr><td>2</td><td><div class=\"dni-plaintext\">7</div></td></tr></tbody></table>"
          },
          "execution_count": 1,
          "metadata": {}
        }
      ]
    },
    {
      "cell_type": "code",
      "execution_count": 1,
      "metadata": {
        "dotnet_interactive": {
          "language": "csharp"
        }
      },
      "source": [
        "// function / operation that does mutaion\n",
        "var nums = new List<int>{3, 2, 1};\n",
        "nums.Sort();\n",
        "nums\n",
        ""
      ],
      "outputs": [
        {
          "output_type": "execute_result",
          "data": {
            "text/html": "<table><thead><tr><th><i>index</i></th><th>value</th></tr></thead><tbody><tr><td>0</td><td><div class=\"dni-plaintext\">1</div></td></tr><tr><td>1</td><td><div class=\"dni-plaintext\">2</div></td></tr><tr><td>2</td><td><div class=\"dni-plaintext\">3</div></td></tr></tbody></table>"
          },
          "execution_count": 1,
          "metadata": {}
        }
      ]
    },
    {
      "cell_type": "code",
      "execution_count": 1,
      "metadata": {
        "dotnet_interactive": {
          "language": "csharp"
        }
      },
      "source": [
        "\n",
        "// functional version - no mutation\n",
        "var nums1 = new List<int>{3, 2, 1};\n",
        "var result = nums1.OrderBy(x => x);\n",
        "(nums1, result)"
      ],
      "outputs": [
        {
          "output_type": "execute_result",
          "data": {
            "text/html": "<table><thead><tr><th>Item1</th><th>Item2</th></tr></thead><tbody><tr><td><div class=\"dni-plaintext\">[ 3, 2, 1 ]</div></td><td><div class=\"dni-plaintext\">[ 1, 2, 3 ]</div></td></tr></tbody></table>"
          },
          "execution_count": 1,
          "metadata": {}
        }
      ]
    },
    {
      "cell_type": "markdown",
      "metadata": {},
      "source": [
        "### 1.1.3 Writing programs with strong grarantees\n",
        "\n",
        ""
      ]
    },
    {
      "cell_type": "code",
      "execution_count": 1,
      "metadata": {
        "dotnet_interactive": {
          "language": "csharp"
        }
      },
      "source": [
        "// Example of why state mutation is bad\n",
        "\n",
        "using static System.Linq.Enumerable;\n",
        "using static System.Console;\n",
        "\n",
        "var list = Range(-10000, 20001).ToList();\n",
        "Action task1 = () => {WriteLine(list.Sum());};\n",
        "Action task2 = () => {list.Sort(); WriteLine(list.Sum());};\n",
        "Parallel.Invoke(task1, task2);\n",
        "// expect 0 from both tasks as result but due to in-place mutation, we get wrong result\n",
        ""
      ],
      "outputs": [
        {
          "output_type": "execute_result",
          "data": {
            "text/plain": "37\r\n"
          },
          "execution_count": 1,
          "metadata": {}
        },
        {
          "output_type": "execute_result",
          "data": {
            "text/plain": "0\r\n"
          },
          "execution_count": 1,
          "metadata": {}
        }
      ]
    },
    {
      "cell_type": "code",
      "execution_count": 1,
      "metadata": {
        "dotnet_interactive": {
          "language": "csharp"
        }
      },
      "source": [
        "\n",
        "// Example without state mutation\n",
        "\n",
        "using static System.Linq.Enumerable;\n",
        "using static System.Console;\n",
        "\n",
        "var list = Range(-10000, 20001).ToList();\n",
        "Action task1 = () => {WriteLine(list.Sum());};\n",
        "Action task2 = () => {list.OrderBy( x => x); WriteLine(list.Sum());};\n",
        "Parallel.Invoke(task1, task2);"
      ],
      "outputs": [
        {
          "output_type": "execute_result",
          "data": {
            "text/plain": "0\r\n"
          },
          "execution_count": 1,
          "metadata": {}
        },
        {
          "output_type": "execute_result",
          "data": {
            "text/plain": "0\r\n"
          },
          "execution_count": 1,
          "metadata": {}
        }
      ]
    },
    {
      "cell_type": "markdown",
      "metadata": {},
      "source": [
        "> \"Although most people will agree that treating functions as first-class values and avoiding state mutation are fundamental tenets of FP, their application gives rise to a series of practices and techniques, so it’s debatable which techniques should be considered essential and included in a book like this. I encourage you to take a pragmatic approach to the subject and try to understand FP as a set of tools that you can use to address your programming tasks. As you learn these techniques, you’ll start to look at problems from a different perspective: you’ll start to think functionally\""
      ]
    },
    {
      "cell_type": "markdown",
      "metadata": {},
      "source": [
        "#### Functional vs. object-oriented?\n",
        "\n",
        "Fundamental priciples of OOP (encapsuation, data abstration, and so on) are `orthogonal` to the priciples of FP, so there's no reason why the two paradigms can't be combined.\n",
        "\n",
        "The real question is `imperative vs functional`\n",
        "\n",
        "The idea of structuring a large and complex appication relies on serveral principles\n",
        "* Modularity\n",
        "* Separation of concerns\n",
        "* Layering\n",
        "* Loose coupling\n",
        "\n",
        "These can be acheived in both OOP and FP - the mechanics of acheiving them might be different"
      ]
    },
    {
      "cell_type": "markdown",
      "metadata": {},
      "source": [
        "## 1.2 How functional a language is C#?"
      ]
    }
  ],
  "metadata": {
    "kernelspec": {
      "display_name": ".NET (C#)",
      "language": "C#",
      "name": ".net-csharp"
    },
    "language_info": {
      "file_extension": ".cs",
      "mimetype": "text/x-csharp",
      "name": "C#",
      "pygments_lexer": "csharp",
      "version": "8.0"
    }
  },
  "nbformat": 4,
  "nbformat_minor": 4
}