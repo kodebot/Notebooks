{
  "cells": [
    {
      "cell_type": "markdown",
      "metadata": {},
      "source": [
        "# Chapter 1. Introduction to functional programming"
      ]
    },
    {
      "cell_type": "markdown",
      "metadata": {},
      "source": [
        "## 1.1 What is this thing called functional programming?\n",
        "\n",
        "At a very high level, it is a programming style that emphasises on\n",
        "1. Functions as first-class values\n",
        "2. Avoiding state mutation"
      ]
    },
    {
      "cell_type": "markdown",
      "metadata": {},
      "source": [
        "### 1.1.1 Functions as first-class values\n",
        "\n",
        "* allows function to be used as input and output of other functions\n",
        "* assign function to variables - in other words, you can treat it like a value\n",
        "\n",
        "treating function as value allow us to write very concise and powerful code"
      ]
    },
    {
      "cell_type": "code",
      "execution_count": null,
      "metadata": {
        "dotnet_interactive": {
          "language": "csharp"
        }
      },
      "outputs": [
        {
          "data": {
            "text/html": "<table><thead><tr><th><i>index</i></th><th>value</th></tr></thead><tbody><tr><td>0</td><td><div class=\"dni-plaintext\">3</div></td></tr><tr><td>1</td><td><div class=\"dni-plaintext\">6</div></td></tr><tr><td>2</td><td><div class=\"dni-plaintext\">9</div></td></tr></tbody></table>"
          },
          "execution_count": 1,
          "metadata": {},
          "output_type": "execute_result"
        }
      ],
      "source": [
        "Func<int, int> triple = x => x * 3;\n",
        "var range = Enumerable.Range(1, 3);\n",
        "var triples = range.Select(triple);\n",
        "triples"
      ]
    },
    {
      "cell_type": "markdown",
      "metadata": {},
      "source": [
        "### 1.1.2 Avoiding state mutation\n",
        "\n",
        "When following functional paradigm, we should refrain from state mutation.\n",
        "\n",
        "* once created, an object `never` changes and variables should `never` be reassigned\n",
        "\n",
        "`muataion` means that a value is changed in-place. It is also referred to as destructive updates\n"
      ]
    },
    {
      "cell_type": "code",
      "execution_count": null,
      "metadata": {
        "dotnet_interactive": {
          "language": "csharp"
        }
      },
      "outputs": [
        {
          "data": {
            "text/html": "<table><thead><tr><th><i>index</i></th><th>value</th></tr></thead><tbody><tr><td>0</td><td><div class=\"dni-plaintext\">1</div></td></tr><tr><td>1</td><td><div class=\"dni-plaintext\">2</div></td></tr><tr><td>2</td><td><div class=\"dni-plaintext\">7</div></td></tr></tbody></table>"
          },
          "execution_count": 1,
          "metadata": {},
          "output_type": "execute_result"
        }
      ],
      "source": [
        "var nums = new List<int>{1, 2, 3 };\n",
        "nums[2] = 7;\n",
        "\n",
        "nums // original list is mutated"
      ]
    },
    {
      "cell_type": "code",
      "execution_count": null,
      "metadata": {
        "dotnet_interactive": {
          "language": "csharp"
        }
      },
      "outputs": [
        {
          "data": {
            "text/html": "<table><thead><tr><th><i>index</i></th><th>value</th></tr></thead><tbody><tr><td>0</td><td><div class=\"dni-plaintext\">1</div></td></tr><tr><td>1</td><td><div class=\"dni-plaintext\">2</div></td></tr><tr><td>2</td><td><div class=\"dni-plaintext\">3</div></td></tr></tbody></table>"
          },
          "execution_count": 1,
          "metadata": {},
          "output_type": "execute_result"
        }
      ],
      "source": [
        "// function / operation that does mutaion\n",
        "var nums = new List<int>{3, 2, 1};\n",
        "nums.Sort();\n",
        "nums\n"
      ]
    },
    {
      "cell_type": "code",
      "execution_count": null,
      "metadata": {
        "dotnet_interactive": {
          "language": "csharp"
        }
      },
      "outputs": [
        {
          "data": {
            "text/html": "<table><thead><tr><th>Item1</th><th>Item2</th></tr></thead><tbody><tr><td><div class=\"dni-plaintext\">[ 3, 2, 1 ]</div></td><td><div class=\"dni-plaintext\">[ 1, 2, 3 ]</div></td></tr></tbody></table>"
          },
          "execution_count": 1,
          "metadata": {},
          "output_type": "execute_result"
        }
      ],
      "source": [
        "\n",
        "// functional version - no mutation\n",
        "var nums1 = new List<int>{3, 2, 1};\n",
        "var result = nums1.OrderBy(x => x);\n",
        "(nums1, result)"
      ]
    },
    {
      "cell_type": "markdown",
      "metadata": {},
      "source": [
        "### 1.1.3 Writing programs with strong grarantees\n",
        "\n"
      ]
    },
    {
      "cell_type": "code",
      "execution_count": null,
      "metadata": {
        "dotnet_interactive": {
          "language": "csharp"
        }
      },
      "outputs": [
        {
          "data": {
            "text/plain": "37\r\n"
          },
          "execution_count": 1,
          "metadata": {},
          "output_type": "execute_result"
        },
        {
          "data": {
            "text/plain": "0\r\n"
          },
          "execution_count": 1,
          "metadata": {},
          "output_type": "execute_result"
        }
      ],
      "source": [
        "// Example of why state mutation is bad\n",
        "\n",
        "using static System.Linq.Enumerable;\n",
        "using static System.Console;\n",
        "\n",
        "var list = Range(-10000, 20001).ToList();\n",
        "Action task1 = () => {WriteLine(list.Sum());};\n",
        "Action task2 = () => {list.Sort(); WriteLine(list.Sum());};\n",
        "Parallel.Invoke(task1, task2);\n",
        "// expect 0 from both tasks as result but due to in-place mutation, we get wrong result\n"
      ]
    },
    {
      "cell_type": "code",
      "execution_count": null,
      "metadata": {
        "dotnet_interactive": {
          "language": "csharp"
        }
      },
      "outputs": [
        {
          "data": {
            "text/plain": "0\r\n"
          },
          "execution_count": 1,
          "metadata": {},
          "output_type": "execute_result"
        },
        {
          "data": {
            "text/plain": "0\r\n"
          },
          "execution_count": 1,
          "metadata": {},
          "output_type": "execute_result"
        }
      ],
      "source": [
        "\n",
        "// Example without state mutation\n",
        "\n",
        "using static System.Linq.Enumerable;\n",
        "using static System.Console;\n",
        "\n",
        "var list = Range(-10000, 20001).ToList();\n",
        "Action task1 = () => {WriteLine(list.Sum());};\n",
        "Action task2 = () => {list.OrderBy( x => x); WriteLine(list.Sum());};\n",
        "Parallel.Invoke(task1, task2);"
      ]
    },
    {
      "cell_type": "markdown",
      "metadata": {},
      "source": [
        "> \"Although most people will agree that treating functions as first-class values and avoiding state mutation are fundamental tenets of FP, their application gives rise to a series of practices and techniques, so it’s debatable which techniques should be considered essential and included in a book like this. I encourage you to take a pragmatic approach to the subject and try to understand FP as a set of tools that you can use to address your programming tasks. As you learn these techniques, you’ll start to look at problems from a different perspective: you’ll start to think functionally\""
      ]
    },
    {
      "cell_type": "markdown",
      "metadata": {},
      "source": [
        "#### Functional vs. object-oriented?\n",
        "\n",
        "Fundamental priciples of OOP (encapsuation, data abstration, and so on) are `orthogonal` to the priciples of FP, so there's no reason why the two paradigms can't be combined.\n",
        "\n",
        "The real question is `imperative vs functional`\n",
        "\n",
        "The idea of structuring a large and complex appication relies on serveral principles\n",
        "* Modularity\n",
        "* Separation of concerns\n",
        "* Layering\n",
        "* Loose coupling\n",
        "\n",
        "These can be acheived in both OOP and FP - the mechanics of acheiving them might be different"
      ]
    },
    {
      "cell_type": "markdown",
      "metadata": {},
      "source": [
        "## 1.2 How functional a language is C#?\r\n",
        "\r\n",
        "* Functions are first-class values in C#\r\n",
        "* GC helps with immutable style by collecting discarded old objects\r\n",
        "* C# is not discouraging in-place updates so it is not so great on this aspect\r\n",
        "\r\n",
        "In summary, some aspects are supported very well but not others"
      ]
    },
    {
      "cell_type": "markdown",
      "metadata": {},
      "source": [
        "### 1.2.1 The functional nature of LINQ\r\n",
        "\r\n",
        "Although, it is not apparent at first glance, LINQ is functional library. By default, it supports operations on `IEnumerable`.\r\n",
        "\r\n",
        "The most common operations are:\r\n",
        "* mapping\r\n",
        "* sorting\r\n",
        "* filtering\r\n",
        "\r\n",
        "the following is an example of this"
      ]
    },
    {
      "cell_type": "code",
      "execution_count": null,
      "metadata": {
        "dotnet_interactive": {
          "language": "csharp"
        }
      },
      "outputs": [
        {
          "data": {
            "text/html": "<table><thead><tr><th><i>index</i></th><th>value</th></tr></thead><tbody><tr><td>0</td><td><div class=\"dni-plaintext\">100%</div></td></tr><tr><td>1</td><td><div class=\"dni-plaintext\">80%</div></td></tr><tr><td>2</td><td><div class=\"dni-plaintext\">60%</div></td></tr><tr><td>3</td><td><div class=\"dni-plaintext\">40%</div></td></tr><tr><td>4</td><td><div class=\"dni-plaintext\">20%</div></td></tr></tbody></table>"
          },
          "output_type": "unknown"
        }
      ],
      "source": [
        "var result = Enumerable.Range(1, 100)\r\n",
        ".Where(i => i % 20 == 0)\r\n",
        ".OrderBy(i => -i)\r\n",
        ".Select(i => $\"{i}%\");\r\n",
        "result"
      ]
    },
    {
      "cell_type": "markdown",
      "metadata": {},
      "source": [
        "Commonly, C# developers stick to functional style when using types that support LINQ and other times they stick to imperative style. So, most of the C# code base are patch work of functional and imperative style.\r\n",
        "\r\n",
        "This means, C# developers are aware of the benefits of FP but they don't have enough exposure to the design principles behind LINQ to leverage those techiniques in their own designs."
      ]
    },
    {
      "cell_type": "markdown",
      "metadata": {},
      "source": [
        "### 1.2.2 Functional features in C# 6 and C# 7\r\n",
        "\r\n",
        "* importing static members with `using static`\r\n",
        "* easier immutable types with getter-only auto properies\r\n",
        "* more concise functions with expression-bodied members\r\n",
        "* local functions\r\n",
        "* better syntax for tuples\r\n"
      ]
    },
    {
      "cell_type": "markdown",
      "metadata": {},
      "source": [
        "### 1.2.3 A more functional future for C#?\r\n",
        "\r\n",
        "* record types\r\n",
        "* algebraic data types\r\n",
        "* pattern matching\r\n",
        "* better syntax for tuples\r\n"
      ]
    },
    {
      "cell_type": "markdown",
      "metadata": {},
      "source": [
        "## 1.3 Thinking in functions\r\n",
        "\r\n",
        "### 1.3.1 Functions as map\r\n",
        "In mathematics, function is a map between two sets, respectively called the domain and codomain.\r\n",
        "\r\n",
        "In programming, you can think of domain and codomain as data types.\r\n",
        "\r\n",
        "### 1.3.2 Representing functions in C#\r\n",
        "\r\n",
        "* methods\r\n",
        "* delegates\r\n",
        "* lambda expressions\r\n",
        "* dictionaries\r\n",
        "\r\n",
        "\r\n",
        "#### Function arity\r\n",
        "`arity` is a funny word that refers to the number of arguments that a function accepts.\r\n",
        "* `nullary` function takes no arguments\r\n",
        "* `unary` function takes one arguments\r\n",
        "* `binary` fuction takes two arguments\r\n",
        "* `ternary` for 3\r\n",
        "\r\n",
        "> Note: one difference between normal fuction and lambda expression is - `closure`\r\n",
        "\r\n"
      ]
    },
    {
      "cell_type": "markdown",
      "metadata": {},
      "source": [
        "## 1.4 Higher-order functions\r\n",
        "\r\n",
        "`HOF`s are functions that take other functions as input or return a function as output, or both.\r\n",
        "\r\n",
        "### 1.4.1 Functions that depend on other functions\r\n",
        "\r\n",
        "Some HOFs take other functions as arguments and invoke them in order to do their work.\r\n",
        "\r\n",
        "`Where` and `Sort` methods are couple of examples. They apply passed in function on each items in `IEnumerable`. These are also examples of `iterated applications`\r\n",
        "\r\n",
        "The general scheme for this look like this, where `f` is passed from outside\r\n",
        "\r\n",
        "```\r\n",
        "IterativelyApply(f, ...)\r\n",
        "{\r\n",
        "    for (...)\r\n",
        "        f(...)\r\n",
        "}\r\n",
        "```\r\n",
        "\r\n",
        "Another popular HOF scheme is optional execution\r\n",
        "```\r\n",
        "ConditionallyApply(f, ...)\r\n",
        "{\r\n",
        "    if(...)\r\n",
        "        f(...)\r\n",
        "}\r\n",
        "```\r\n",
        "\r\n",
        "Here is a realistic example of optional execution HOF\r\n",
        "\r\n",
        "```cs\r\n",
        "class Cache<T> where T: class\r\n",
        "{\r\n",
        "    public T Get(Guid id) => // ...\r\n",
        "    \r\n",
        "    public T Get(Guid id, Func<T> onMiss)\r\n",
        "        => Get(id) ?? onMiss();\r\n",
        "}\r\n",
        "```\r\n",
        "\r\n",
        "passing another function as input is sometimes referred to as `inversion of control`: the caller of the HOF decides what to do by supplying functions and the callee decides when to do it by invoking the given function.\r\n",
        "\r\n",
        "### 1.4.2 Adapter functions\r\n",
        "\r\n",
        "Some `HOF`s don't apply the given function at all, but rather return a new function, somehow related to the function given as an argument.\r\n",
        "\r\n",
        "Example: returns a new function with swapped arguments\r\n",
        "```cs\r\n",
        "static Func<T2, T1, R> SwapArgs<T1, T2, R>(this Func<T1, T2, R> f)\r\n",
        "    => (t2, t1) => f(t1, t2);\r\n",
        "```\r\n",
        "\r\n",
        "### 1.4.3 Functions that create other functions\r\n",
        "\r\n",
        "Sometimes you will create fuctions whose primary purpose is to create other functions - you can think of them as `function factories`.\r\n",
        "\r\n",
        "Example: returns a fuction with given mod number\r\n",
        "```cs\r\n",
        "Func<int, bool> isMod(int n) => i => i % n == 0;\r\n",
        "```\r\n",
        "\r\n",
        "Usage:\r\n",
        "```cs\r\n",
        "Range(1, 20).Where(isMod(2));\r\n",
        "Range(1, 20).Where(isMod(3));\r\n",
        "```\r\n",
        "We get not only generality but also readability"
      ]
    },
    {
      "cell_type": "markdown",
      "metadata": {},
      "source": [
        "## 1.5 Using HOFs to avoid duplication\r\n",
        "\r\n",
        "Another common use case for `HOF`s is to encapsulate setup and teardown operations.\r\n",
        "\r\n",
        "Example of setup and teardown:\r\n",
        "```cs\r\n",
        "using (var conn = new SqlConnection(connString))\r\n",
        "{\r\n",
        "    conn.Open();\r\n",
        "    // interact with database\r\n",
        "}\r\n",
        "```\r\n",
        "### 1.5.1 Encapsulating setup and teardown into a HOF\r\n",
        "\r\n",
        "Here is the scheme for this HOF\r\n",
        "```\r\n",
        "SetupTeardown(f, ...)\r\n",
        "{\r\n",
        "    Setup()\r\n",
        "    f(...)\r\n",
        "    Teardown()\r\n",
        "}\r\n",
        "```\r\n",
        "Sometimes this is referred to as `hole in the middle`\r\n",
        "\r\n",
        "Here is an example of database setup and teardown encapsulated in HOF\r\n",
        "\r\n",
        "```cs\r\n",
        "public static class ConnectionHelper\r\n",
        "{\r\n",
        "    public static R Connect<R>(string connString, Func<IDbConnection, R> f)\r\n",
        "    {\r\n",
        "        using(var conn = new SqlConnection(connString))\r\n",
        "        {\r\n",
        "            conn.Open();\r\n",
        "            return f(conn);\r\n",
        "        }\r\n",
        "    }\r\n",
        "}\r\n",
        "```\r\n",
        "\r\n",
        "Usage: \r\n",
        "```cs\r\n",
        "public void Log(LogMessage message) \r\n",
        "    => Connect(connString, c => c.Execute(\"sp_create_log\", message, commandType: commandType.StoredProcedure));\r\n",
        "```\r\n",
        "\r\n",
        "### 1.5.2 Turning the using statement into HOF\r\n",
        "\r\n",
        "```cs\r\n",
        "public static R Using<TDisp, R>(TDisp disposable, Func<TDisp, R> f) where TDisp: IDisposable\r\n",
        "{\r\n",
        "    using(disposable) return f(disposable);\r\n",
        "}\r\n",
        "```\r\n",
        "\r\n",
        "with this `Connect` method can be rewritten as follow:\r\n",
        "\r\n",
        "```cs\r\n",
        "public static R Connect<R>(string connString, Func<IDbConnection, R> f)\r\n",
        "    => Using(new SqlConnection(connString)), conn => {conn.Open(); return f(conn);});\r\n",
        "```\r\n",
        "\r\n",
        "### 1.5.3 Tradeoffs of HOFs\r\n",
        "\r\n",
        "* Conciseness\r\n",
        "* Avoid duplication\r\n",
        "* Separation of concerns\r\n",
        "\r\n",
        "Drawbacks:\r\n",
        "* increased stack use\r\n",
        "* debugging is bit more complex due to callbacks\r\n"
      ]
    },
    {
      "cell_type": "markdown",
      "metadata": {},
      "source": [
        "## 1.6. Benefits of functional programming\r\n",
        "\r\n",
        "* Cleaner code\r\n",
        "* Better support for concurrency\r\n",
        "* A multi-paradigm approach (if you only have hammer, every problem would look like a nail)"
      ]
    }
  ],
  "metadata": {
    "kernelspec": {
      "display_name": ".NET (C#)",
      "language": "C#",
      "name": ".net-csharp"
    },
    "language_info": {
      "file_extension": ".cs",
      "mimetype": "text/x-csharp",
      "name": "C#",
      "pygments_lexer": "csharp",
      "version": "8.0"
    }
  },
  "nbformat": 4,
  "nbformat_minor": 4
}