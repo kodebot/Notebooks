{
  "cells": [
    {
      "cell_type": "markdown",
      "metadata": {},
      "source": [
        "## Mutation is bad  - `Sort` method in List\n",
        "\n",
        "Here Sort mutates the list while we trying to find sum in another parallel task"
      ]
    },
    {
      "cell_type": "code",
      "execution_count": 1,
      "metadata": {
        "dotnet_interactive": {
          "language": "csharp"
        }
      },
      "source": [
        "using static System.Linq.Enumerable;\n",
        "using static System.Console;\n",
        "\n",
        "var nums = Range(-10000, 20001).Reverse().ToList();\n",
        "\n",
        "Action task1 = () => WriteLine(nums.Sum());\n",
        "Action task2 = () => {nums.Sort(); WriteLine(nums.Sum());};\n",
        "Parallel.Invoke(task1, task2);"
      ],
      "outputs": [
        {
          "output_type": "execute_result",
          "data": {
            "text/plain": "40624\r\n"
          },
          "execution_count": 1,
          "metadata": {}
        },
        {
          "output_type": "execute_result",
          "data": {
            "text/plain": "0\r\n"
          },
          "execution_count": 1,
          "metadata": {}
        }
      ]
    },
    {
      "cell_type": "markdown",
      "metadata": {},
      "source": [
        "## With `OrderBy` extension method"
      ]
    },
    {
      "cell_type": "code",
      "execution_count": 1,
      "metadata": {
        "dotnet_interactive": {
          "language": "csharp"
        }
      },
      "source": [
        "Action task3 = () => WriteLine(nums.OrderBy(x => x).Sum());\n",
        "Parallel.Invoke(task1, task2, task3);"
      ],
      "outputs": [
        {
          "output_type": "execute_result",
          "data": {
            "text/plain": "-623\r\n"
          },
          "execution_count": 1,
          "metadata": {}
        },
        {
          "output_type": "execute_result",
          "data": {
            "text/plain": "0\r\n"
          },
          "execution_count": 1,
          "metadata": {}
        },
        {
          "output_type": "execute_result",
          "data": {
            "text/plain": "0\r\n"
          },
          "execution_count": 1,
          "metadata": {}
        }
      ]
    },
    {
      "cell_type": "markdown",
      "metadata": {},
      "source": [
        "## Task Monad\n",
        "Makes tasks composable"
      ]
    },
    {
      "cell_type": "code",
      "execution_count": 1,
      "metadata": {
        "dotnet_interactive": {
          "language": "csharp"
        }
      },
      "source": [
        "public async static Task<U> Select<T, U>(this Task<T> task, Func<T,U> mapper)\n",
        "{\n",
        "    var result = await task;\n",
        "    return mapper(result);\n",
        "}\n",
        "\n",
        "public async static Task<R> SelectMany<T,U, R>(this Task<T> task, Func<T, Task<U>> mapper, Func<T, U, R> selector)\n",
        "{\n",
        "    var result = await task;\n",
        "    return await mapper(result).Select(x => selector(result, x));\n",
        "}\n",
        "\n",
        "var task1 = Task.Run(() => 10);\n",
        "var task2 = Task.Run(() => 20);\n",
        "var task3 = Task.Run(() => 30);\n",
        "\n",
        "var result = from x in task1\n",
        "                from y in task2\n",
        "                from z in task3\n",
        "                select x * y * z;\n",
        "\n",
        "await result"
      ],
      "outputs": [
        {
          "output_type": "execute_result",
          "data": {
            "text/html": "<div class=\"dni-plaintext\">6000</div>"
          },
          "execution_count": 1,
          "metadata": {}
        }
      ]
    }
  ],
  "metadata": {
    "kernelspec": {
      "display_name": ".NET (C#)",
      "language": "C#",
      "name": ".net-csharp"
    },
    "language_info": {
      "file_extension": ".cs",
      "mimetype": "text/x-csharp",
      "name": "C#",
      "pygments_lexer": "csharp",
      "version": "8.0"
    }
  },
  "nbformat": 4,
  "nbformat_minor": 4
}