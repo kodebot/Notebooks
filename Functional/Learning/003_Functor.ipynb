{
  "cells": [
    {
      "cell_type": "markdown",
      "metadata": {},
      "source": [
        "## Functor\n",
        "It is a mapping between two categories. A `functor` maps not only objects, but also functions (called `morphisms`)\n",
        "\n",
        "`Functor` preserves structure between objects.\n",
        "\n",
        "Another way to think about it is, you have a value in a Box and you can transform the value and still keep them in the Box.\n",
        "Here, because the the type of Box is not changing, only the type of the value - it is `endofunctor`\n",
        "\n",
        "Example:\n",
        "\n",
        "f x = x ( int -> int)\n",
        "\n",
        "g x = x (int -> int)\n",
        "\n",
        "f (g x) (int -> int)\n",
        "\n",
        "## Why?\n",
        "TODO\n",
        "\n",
        "## Rules\n",
        "1. There should be an `identity` function that returns the `functor` unchanged\n",
        "2. If you have two functions `f` and `g`, then mapping over one after the other should be the same as mapping over the composition of `f` and `g\n",
        "    ```\n",
        "        functor.map(g).map(f) = functor.map(i => f(g(i)))\n",
        "    ```\n",
        "    "
      ]
    }
  ],
  "metadata": {
    "kernelspec": {
      "display_name": ".NET (C#)",
      "language": "C#",
      "name": ".net-csharp"
    },
    "language_info": {
      "file_extension": ".cs",
      "mimetype": "text/x-csharp",
      "name": "C#",
      "pygments_lexer": "csharp",
      "version": "8.0"
    }
  },
  "nbformat": 4,
  "nbformat_minor": 4
}