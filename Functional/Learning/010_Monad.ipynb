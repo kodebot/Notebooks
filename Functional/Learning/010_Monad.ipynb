{
  "cells": [
    {
      "cell_type": "markdown",
      "metadata": {},
      "source": [
        "## Monad\n",
        "Similar to Monoid\n",
        "\n",
        "In monoid, a function takes `int` and returns `int`\n",
        "\n",
        "In monod, a function takes `int` and return `M int` (something of int). M is type constructor.  Now we need to define how we can compose these things\n",
        "\n",
        "Monod allows to bring world of side effect under control\n",
        "\n",
        "- f : a --> Ma\n",
        "- g : a --> Mb"
      ]
    },
    {
      "cell_type": "code",
      "execution_count": 1,
      "metadata": {
        "dotnet_interactive": {
          "language": "csharp"
        }
      },
      "source": [
        "using static System.Console;\n",
        "\n",
        "Func<int, int[]> box = val => new []{val};\n",
        "Func<int, int[]> isOdd = val => new []{val % 2};\n",
        "Func<IEnumerable<int>, IEnumerable<int>> inspect = result => {result.ToList().ForEach(Write); return result;};\n",
        "\n",
        "var vals = new[]{1, 2, 3};\n",
        "var result = vals\n",
        "            .Select(box)\n",
        "            .SelectMany(x => x) // glues two modads\n",
        "            .Select(isOdd)\n",
        "            .Select(inspect)\n",
        "            .ToList();\n",
        "\n",
        "\n",
        "// other ways to write\n",
        "var result1 = vals\n",
        "            .Select(box)\n",
        "            .Select(x => x.SelectMany(isOdd))\n",
        "            .Select(inspect)\n",
        "            .ToList();\n",
        "\n",
        "var result2 = vals\n",
        "            .Select(box)\n",
        "            .SelectMany(x => x.Select(isOdd))\n",
        "            .Select(inspect)\n",
        "            .ToList();\n",
        "\n",
        "var result3 = from i in vals\n",
        "              from j in box(i)\n",
        "              let k =  isOdd(j)\n",
        "              select inspect(k);\n",
        "              \n",
        "result3.ToList();\n",
        "              \n",
        ""
      ],
      "outputs": [
        {
          "output_type": "execute_result",
          "data": {
            "text/plain": "1"
          },
          "execution_count": 1,
          "metadata": {}
        },
        {
          "output_type": "execute_result",
          "data": {
            "text/plain": "0"
          },
          "execution_count": 1,
          "metadata": {}
        },
        {
          "output_type": "execute_result",
          "data": {
            "text/plain": "1"
          },
          "execution_count": 1,
          "metadata": {}
        },
        {
          "output_type": "execute_result",
          "data": {
            "text/plain": "1"
          },
          "execution_count": 1,
          "metadata": {}
        },
        {
          "output_type": "execute_result",
          "data": {
            "text/plain": "0"
          },
          "execution_count": 1,
          "metadata": {}
        },
        {
          "output_type": "execute_result",
          "data": {
            "text/plain": "1"
          },
          "execution_count": 1,
          "metadata": {}
        },
        {
          "output_type": "execute_result",
          "data": {
            "text/plain": "1"
          },
          "execution_count": 1,
          "metadata": {}
        },
        {
          "output_type": "execute_result",
          "data": {
            "text/plain": "0"
          },
          "execution_count": 1,
          "metadata": {}
        },
        {
          "output_type": "execute_result",
          "data": {
            "text/plain": "1"
          },
          "execution_count": 1,
          "metadata": {}
        },
        {
          "output_type": "execute_result",
          "data": {
            "text/plain": "1"
          },
          "execution_count": 1,
          "metadata": {}
        },
        {
          "output_type": "execute_result",
          "data": {
            "text/plain": "0"
          },
          "execution_count": 1,
          "metadata": {}
        },
        {
          "output_type": "execute_result",
          "data": {
            "text/plain": "1"
          },
          "execution_count": 1,
          "metadata": {}
        }
      ]
    }
  ],
  "metadata": {
    "kernelspec": {
      "display_name": ".NET (C#)",
      "language": "C#",
      "name": ".net-csharp"
    },
    "language_info": {
      "file_extension": ".cs",
      "mimetype": "text/x-csharp",
      "name": "C#",
      "pygments_lexer": "csharp",
      "version": "8.0"
    }
  },
  "nbformat": 4,
  "nbformat_minor": 4
}