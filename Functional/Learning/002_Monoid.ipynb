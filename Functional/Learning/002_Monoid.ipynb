{
  "cells": [
    {
      "cell_type": "markdown",
      "metadata": {},
      "source": [
        "## Monoid\n",
        "Take two things of same type, when you combine them you will get the new thing of the same type\n",
        "\n",
        "Example:\n",
        "\n",
        "f x = x ( int -> int)\n",
        "\n",
        "g x = x (int -> int)\n",
        "\n",
        "f (g x) (int -> int)\n",
        "\n",
        "the advantage is composability.\n",
        "\n",
        "You divide the complex/large problem into small problems that are composable\n",
        "\n",
        "> Definition: `Monoid` is collection of things plus a rule for combining the things. That rule obeys the following rules \n",
        "> \n",
        "> `Associativity` combining monoid must be associative --> x . (y . z) = (x . y) . z\n",
        ">\n",
        "> `Identity`, Monoid must have a special identity memeber --> x . id = id . x  (think of id as zero for sum, 2 for multiplication, etc)\n",
        ">\n",
        "> The composability DOES NOT have to satisfy commutivity\n",
        ">\n",
        "> i.e. x .  y <>  y . x"
      ]
    },
    {
      "cell_type": "code",
      "execution_count": 1,
      "metadata": {
        "dotnet_interactive": {
          "language": "fsharp"
        }
      },
      "source": [
        "let f x = x + 1\n",
        "let g x = x - 2\n",
        "\n",
        "f (g 10) |> print\n",
        "\n",
        "// rewrite the same using pipeline\n",
        "10 |> g |> f\n",
        ""
      ],
      "outputs": [
        {
          "output_type": "execute_result",
          "data": {
            "text/plain": "9"
          },
          "execution_count": 1,
          "metadata": {}
        },
        {
          "output_type": "execute_result",
          "data": {
            "text/plain": "\r\n"
          },
          "execution_count": 1,
          "metadata": {}
        },
        {
          "output_type": "execute_result",
          "data": {
            "text/html": "<div class=\"dni-plaintext\">9</div>"
          },
          "execution_count": 1,
          "metadata": {}
        }
      ]
    }
  ],
  "metadata": {
    "kernelspec": {
      "display_name": ".NET (C#)",
      "language": "C#",
      "name": ".net-csharp"
    },
    "language_info": {
      "file_extension": ".cs",
      "mimetype": "text/x-csharp",
      "name": "C#",
      "pygments_lexer": "csharp",
      "version": "8.0"
    }
  },
  "nbformat": 4,
  "nbformat_minor": 4
}