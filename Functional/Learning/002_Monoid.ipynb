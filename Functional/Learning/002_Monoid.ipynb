{
  "cells": [
    {
      "cell_type": "markdown",
      "metadata": {},
      "source": [
        "## Monoid\n",
        "Take two things of same type, when you combine them you will get the new thing of the same type\n",
        "\n",
        "Example:\n",
        "\n",
        "f x = x ( int -> int)\n",
        "\n",
        "g x = x (int -> int)\n",
        "\n",
        "f (g x) (int -> int)\n",
        "\n",
        "## Why?\n",
        "* Composability. You divide the complex/large problem into small problems that are composable\n",
        "\n",
        "## Definition\n",
        "> `Monoid` is collection of things plus a rule for combining the things. That rule obeys the following rules \n",
        "> \n",
        "> `Associativity` combining monoid must be associative --> x . (y . z) = (x . y) . z\n",
        ">\n",
        "> `Identity`, Monoid must have a special identity memeber --> x . id = id . x  (think of id as zero for sum, 2 for multiplication, etc)\n",
        ">\n",
        "> The composability DOES NOT have to satisfy commutivity\n",
        ">\n",
        "> i.e. x .  y <>  y . x"
      ]
    },
    {
      "cell_type": "code",
      "execution_count": 1,
      "metadata": {
        "dotnet_interactive": {
          "language": "fsharp"
        }
      },
      "source": [
        "let f x = x + 1\n",
        "let g x = x - 2\n",
        "\n",
        "f (g 10) |> print\n",
        "\n",
        "// rewrite the same using pipeline\n",
        "10 |> g |> f\n",
        ""
      ],
      "outputs": [
        {
          "output_type": "execute_result",
          "data": {
            "text/plain": "9"
          },
          "execution_count": 1,
          "metadata": {}
        },
        {
          "output_type": "execute_result",
          "data": {
            "text/plain": "\r\n"
          },
          "execution_count": 1,
          "metadata": {}
        },
        {
          "output_type": "execute_result",
          "data": {
            "text/html": "<div class=\"dni-plaintext\">9</div>"
          },
          "execution_count": 1,
          "metadata": {}
        }
      ]
    },
    {
      "cell_type": "markdown",
      "metadata": {},
      "source": [
        "The `+` operator or `concat` for `string` is not fully monoid as it doesn't handle `null` properly. The following is simple extension method to make `string` concatination a monoid."
      ]
    },
    {
      "cell_type": "code",
      "execution_count": 1,
      "metadata": {
        "dotnet_interactive": {
          "language": "csharp"
        }
      },
      "source": [
        "public static string MConcat(this string first, string second)\n",
        "{\n",
        "    if(first == null && second == null){\n",
        "        return null;\n",
        "    }\n",
        "\n",
        "    // identity\n",
        "    if(first == string.Empty){\n",
        "        return second;\n",
        "    }\n",
        "\n",
        "    if(second == string.Empty){\n",
        "        return first;\n",
        "    }\n",
        "\n",
        "    return first + second;\n",
        "}\n",
        "\n",
        "var nulls = MConcat(null, null);\n",
        "var nullIdentity1 = MConcat(null, \"\");\n",
        "var nullIdentity2 = MConcat(\"\", null);\n",
        "var normal = MConcat(\"test\", \"ing\");\n",
        "var normalIdentity1 = MConcat(\"\", \"ing\");\n",
        "var normalIdentity2 = MConcat(\"test\", \"\");\n",
        "var normalNull1 = MConcat(null, \"ing\");\n",
        "var normalNull2 = MConcat(\"test\", null);\n",
        "normalNull2"
      ],
      "outputs": [
        {
          "output_type": "execute_result",
          "data": {
            "text/plain": "test"
          },
          "execution_count": 1,
          "metadata": {}
        }
      ]
    },
    {
      "cell_type": "markdown",
      "metadata": {},
      "source": [
        "## Free Monoid\n",
        "\n",
        "Lets say we have two numbers `2` and `3`. We want to combine them but we don't know how we want to combine them yet.\n",
        "\n",
        "We can convert these individual numbers into two separate singleton `List`, so them become `monoid`. `List` is a `monoid`\n",
        "\n",
        "`[2]` and `[3]` are monoids now and we can combine them. The result of combining them is `[2, 3]`. Now, we have not lost any of our orignal data.\n",
        "\n",
        "If we know now how we want ot combine them then we can do so. For example,\n",
        "\n",
        "`[2, 3].Aggregate(0, (x, y) => x + y)` -- sum\n",
        "\n",
        "`[2, 3].Aggregate(1, (x, y) => x * y)` -- product\n",
        "\n",
        "## Why?\n",
        "TODO: Learn why this is useful"
      ]
    }
  ],
  "metadata": {
    "kernelspec": {
      "display_name": ".NET (C#)",
      "language": "C#",
      "name": ".net-csharp"
    },
    "language_info": {
      "file_extension": ".cs",
      "mimetype": "text/x-csharp",
      "name": "C#",
      "pygments_lexer": "csharp",
      "version": "8.0"
    }
  },
  "nbformat": 4,
  "nbformat_minor": 4
}