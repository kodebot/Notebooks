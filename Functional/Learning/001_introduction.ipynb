{
 "cells": [
  {
   "cell_type": "markdown",
   "metadata": {},
   "source": [
    "## Function\r\n",
    "* Takes an input and returns an output\r\n",
    "* Use function like data, i.e. it can be passed around\r\n",
    "* The function should not have any side effect so it can be replaced with table lookup"
   ]
  },
  {
   "cell_type": "code",
   "execution_count": 1,
   "metadata": {},
   "source": [
    "#!fsharp\r\n",
    "let print x = printfn \"%A\" x\r\n",
    "let f x = x * x\r\n",
    "\r\n",
    "f 10 |> print\r\n",
    ""
   ],
   "outputs": [
    {
     "output_type": "execute_result",
     "data": {
      "text/plain": "100"
     },
     "execution_count": 1,
     "metadata": {}
    },
    {
     "output_type": "execute_result",
     "data": {
      "text/plain": "\r\n"
     },
     "execution_count": 1,
     "metadata": {}
    }
   ]
  },
  {
   "cell_type": "markdown",
   "metadata": {},
   "source": [
    "## Monoid\r\n",
    "Take two things of same type, when you combine them you will get the new thing of the same type\r\n",
    "\r\n",
    "Example:\r\n",
    "\r\n",
    "f x = x ( int -> int)\r\n",
    "\r\n",
    "g x = x (int -> int)\r\n",
    "\r\n",
    "f (g x) (int -> int)\r\n",
    "\r\n",
    "the advantage is composability.\r\n",
    "\r\n",
    "You divide the complex/large problem into small problems that are composable\r\n",
    "\r\n",
    "> Definition: `Monoid` is collection of things plus a rule for combining the things. That rule obeys the following rules \r\n",
    "> \r\n",
    "> `Associativity` combining monoid must be associative --> x . (y . z) = (x . y) . z\r\n",
    ">\r\n",
    "> `Identity`, Monoid must have a special identity memeber --> x . id = id . x  (think of id as zero for sum, 2 for multiplication, etc)\r\n",
    ">\r\n",
    "> The composability DOES NOT have to satisfy commutivity\r\n",
    ">\r\n",
    "> i.e. x .  y <>  y . x"
   ]
  },
  {
   "cell_type": "code",
   "execution_count": 1,
   "metadata": {},
   "source": [
    "#!fsharp\r\n",
    "let f x = x + 1\r\n",
    "let g x = x - 2\r\n",
    "\r\n",
    "f (g 10) |> print\r\n",
    "\r\n",
    "// rewrite the same using pipeline\r\n",
    "10 |> g |> f\r\n",
    ""
   ],
   "outputs": [
    {
     "output_type": "execute_result",
     "data": {
      "text/plain": "9"
     },
     "execution_count": 1,
     "metadata": {}
    },
    {
     "output_type": "execute_result",
     "data": {
      "text/plain": "\r\n"
     },
     "execution_count": 1,
     "metadata": {}
    },
    {
     "output_type": "execute_result",
     "data": {
      "text/html": "<div class=\"dni-plaintext\">9</div>"
     },
     "execution_count": 1,
     "metadata": {}
    }
   ]
  },
  {
   "cell_type": "markdown",
   "metadata": {},
   "source": [
    "## Monad\r\n",
    "Similar to Monoid\r\n",
    "\r\n",
    "In monoid, a function takes `int` and returns `int`\r\n",
    "\r\n",
    "In monod, a function takes `int` and return `M int` (something of int). M is type constructor.  Now we need to define how we can compose these things\r\n",
    "\r\n",
    "Monod allows to bring world of side effect under control\r\n",
    "\r\n",
    "- f : a --> Ma\r\n",
    "- g : a --> Mb"
   ]
  },
  {
   "cell_type": "code",
   "execution_count": 1,
   "metadata": {},
   "source": [
    "using static System.Console;\r\n",
    "\r\n",
    "Func<int, int[]> box = val => new []{val};\r\n",
    "Func<int, int[]> isOdd = val => new []{val % 2};\r\n",
    "Func<IEnumerable<int>, IEnumerable<int>> inspect = result => {result.ToList().ForEach(Write); return result;};\r\n",
    "\r\n",
    "var vals = new[]{1, 2, 3};\r\n",
    "var result = vals\r\n",
    "            .Select(box)\r\n",
    "            .SelectMany(x => x) // glues two modads\r\n",
    "            .Select(isOdd)\r\n",
    "            .Select(inspect)\r\n",
    "            .ToList();\r\n",
    "\r\n",
    "\r\n",
    "// other ways to write\r\n",
    "var result1 = vals\r\n",
    "            .Select(box)\r\n",
    "            .Select(x => x.SelectMany(isOdd))\r\n",
    "            .Select(inspect)\r\n",
    "            .ToList();\r\n",
    "\r\n",
    "var result2 = vals\r\n",
    "            .Select(box)\r\n",
    "            .SelectMany(x => x.Select(isOdd))\r\n",
    "            .Select(inspect)\r\n",
    "            .ToList();\r\n",
    "\r\n",
    "var result3 = from i in vals\r\n",
    "              from j in box(i)\r\n",
    "              let k =  isOdd(j)\r\n",
    "              select inspect(k);\r\n",
    "              \r\n",
    "result3.ToList();\r\n",
    "              \r\n",
    ""
   ],
   "outputs": [
    {
     "output_type": "execute_result",
     "data": {
      "text/plain": "1"
     },
     "execution_count": 1,
     "metadata": {}
    },
    {
     "output_type": "execute_result",
     "data": {
      "text/plain": "0"
     },
     "execution_count": 1,
     "metadata": {}
    },
    {
     "output_type": "execute_result",
     "data": {
      "text/plain": "1"
     },
     "execution_count": 1,
     "metadata": {}
    },
    {
     "output_type": "execute_result",
     "data": {
      "text/plain": "1"
     },
     "execution_count": 1,
     "metadata": {}
    },
    {
     "output_type": "execute_result",
     "data": {
      "text/plain": "0"
     },
     "execution_count": 1,
     "metadata": {}
    },
    {
     "output_type": "execute_result",
     "data": {
      "text/plain": "1"
     },
     "execution_count": 1,
     "metadata": {}
    },
    {
     "output_type": "execute_result",
     "data": {
      "text/plain": "1"
     },
     "execution_count": 1,
     "metadata": {}
    },
    {
     "output_type": "execute_result",
     "data": {
      "text/plain": "0"
     },
     "execution_count": 1,
     "metadata": {}
    },
    {
     "output_type": "execute_result",
     "data": {
      "text/plain": "1"
     },
     "execution_count": 1,
     "metadata": {}
    }
   ]
  }
 ],
 "metadata": {
  "kernelspec": {
   "display_name": ".NET (C#)",
   "language": "C#",
   "name": ".net-csharp"
  },
  "language_info": {
   "file_extension": ".cs",
   "mimetype": "text/x-csharp",
   "name": "C#",
   "pygments_lexer": "csharp",
   "version": "8.0"
  }
 },
 "nbformat": 4,
 "nbformat_minor": 4
}