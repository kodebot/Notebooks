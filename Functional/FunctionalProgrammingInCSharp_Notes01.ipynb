{
 "cells": [
  {
   "cell_type": "markdown",
   "metadata": {},
   "source": [
    "## Mutation is bad  - `Sort` method in List\r\n",
    "\r\n",
    "Here Sort mutates the list while we trying to find sum in another parallel task"
   ]
  },
  {
   "cell_type": "code",
   "execution_count": 1,
   "metadata": {},
   "source": [
    "using static System.Linq.Enumerable;\r\n",
    "using static System.Console;\r\n",
    "\r\n",
    "var nums = Range(-10000, 20001).Reverse().ToList();\r\n",
    "\r\n",
    "Action task1 = () => WriteLine(nums.Sum());\r\n",
    "Action task2 = () => {nums.Sort(); WriteLine(nums.Sum());};\r\n",
    "Parallel.Invoke(task1, task2);"
   ],
   "outputs": [
    {
     "output_type": "execute_result",
     "data": {
      "text/plain": "95514158\r\n"
     },
     "execution_count": 1,
     "metadata": {}
    },
    {
     "output_type": "execute_result",
     "data": {
      "text/plain": "0\r\n"
     },
     "execution_count": 1,
     "metadata": {}
    }
   ]
  },
  {
   "cell_type": "markdown",
   "metadata": {},
   "source": [
    "## With `OrderBy` extension method"
   ]
  },
  {
   "cell_type": "code",
   "execution_count": 1,
   "metadata": {},
   "source": [
    "Action task3 = () => WriteLine(nums.OrderBy(x => x).Sum());\r\n",
    "Parallel.Invoke(task1, task2, task3);"
   ],
   "outputs": [
    {
     "output_type": "execute_result",
     "data": {
      "text/plain": "-1248\r\n"
     },
     "execution_count": 1,
     "metadata": {}
    },
    {
     "output_type": "execute_result",
     "data": {
      "text/plain": "0\r\n"
     },
     "execution_count": 1,
     "metadata": {}
    },
    {
     "output_type": "execute_result",
     "data": {
      "text/plain": "0\r\n"
     },
     "execution_count": 1,
     "metadata": {}
    }
   ]
  }
 ],
 "metadata": {
  "kernelspec": {
   "display_name": ".NET (C#)",
   "language": "C#",
   "name": ".net-csharp"
  },
  "language_info": {
   "file_extension": ".cs",
   "mimetype": "text/x-csharp",
   "name": "C#",
   "pygments_lexer": "csharp",
   "version": "8.0"
  }
 },
 "nbformat": 4,
 "nbformat_minor": 4
}